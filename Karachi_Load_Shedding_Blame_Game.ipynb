{
 "cells": [
  {
   "cell_type": "markdown",
   "metadata": {},
   "source": [
    "Abstract\n",
    "\n",
    "This program seeks to train a model that will perform better than a dummy model for predicting when the entity who is blamed the most for load shedding in Karachi, Pakistan will be blamed based on tweets blaming other entities.  We will use model selection techniques to determine if we have a model that meets this criteria or we will determine which of the models we have that performs the best.  \n",
    "\n",
    "We will cover the logic applied in the code step by step to ensure a good understanding of how this program can be applied to quickly determine who is being blamed for load shedding in Karachi. In the first section, we will cover how to get the data.  The next section is the analysis portion, and finally I will cover my conclusions based on the data.  \n",
    "\n",
    "Some interesting observations include that the times the entities are blamed is not normally distributed, so we may have to do some extra work if we require normalized data and the lasso regression performed worse than logistic regression.  A secondary use case for this code could be to determine if load shedding has recently occurred in Karachi or if it is becoming more or less of a problem.  "
   ]
  },
  {
   "cell_type": "markdown",
   "metadata": {},
   "source": [
    "Gathering Data\n",
    "\n",
    "First, we import the modules we will need and gather the API keys for the Twitter module.  We also initialize some variables that we will need later."
   ]
  },
  {
   "cell_type": "code",
   "execution_count": null,
   "metadata": {},
   "outputs": [],
   "source": [
    "# Modules we will need\n",
    "import config\n",
    "import datetime as DT\n",
    "import twitter\n",
    "import pandas as pd\n",
    "import numpy as np\n",
    "\n",
    "# Pulling credentials for python-twitter API\n",
    "api = twitter.Api(consumer_key = config.api_key, consumer_secret = config.api_key_secret, access_token_key = config.access_token, access_token_secret = config.access_secret)\n",
    "\n",
    "# Create variables that use datetime module to find today and one week ago\n",
    "today = DT.date.today()\n",
    "week_ago = today - DT.timedelta(days = 7)\n",
    "\n",
    "# The search criteria we will need for all raw_query GetSearch twitter pulls\n",
    "static_search = 'q=load shedding karachi'\n",
    "\n",
    "# Create a list of all blamed entities in our program\n",
    "blamed_list = ['Karachi Electric', 'Imran Khan', 'Asad Umar', 'NEPRA', 'Sui Gas', 'Naeem Rehman', 'Omar Ayub Khan', 'Tehreeki Insaaf']"
   ]
  },
  {
   "cell_type": "markdown",
   "metadata": {},
   "source": [
    "In this cell, we set up three functions that we will need later."
   ]
  },
  {
   "cell_type": "code",
   "execution_count": 428,
   "metadata": {},
   "outputs": [],
   "source": [
    "# Set up the functions that we will need.\n",
    "\n",
    "def name_setter(search):\n",
    "    '''Returns set of twitter usernames who tweeted specified search criteria using GetSearch raw_query.  Contains no duplicates.'''\n",
    "    name_set = {tweet.user.screen_name for tweet in search}\n",
    "    return name_set\n",
    "\n",
    "def name_set_length_lister(name_set_list):\n",
    "    '''Returns a list of the lengths of a passed iterable.'''\n",
    "    name_set_length_list = [len(name_set) for name_set in name_set_list]\n",
    "    return name_set_length_list\n",
    "\n",
    "def name_mbr_test(name_set_list, names):\n",
    "    '''Returns dictionary of membership tests between two iterables.'''\n",
    "    name_dict = {}\n",
    "    for name in names:\n",
    "        if name in name_set_list:\n",
    "            name_dict[name] = True           \n",
    "        else:\n",
    "            name_dict[name] = False\n",
    "    return name_dict    "
   ]
  },
  {
   "cell_type": "markdown",
   "metadata": {},
   "source": [
    "This cell is where the actual searches take place.  We take the API key authority that we set up earlier and perform a GetSearch Twitter API search that includes the static search variable we set up to search for tweets about Karachi load shedding.  The extra search criteria in each search that comes immediately after the static search is based on a manual scan of how tweeters seemed to be blaming the entities.\n",
    "\n",
    "Next, is the logic for the time frame we are trying to pull from.  Here we are pulling all tweets from today and going back one week.  This is the maximum available historical pull we can do with the Twitter API.  Next, we set the total tweet count we are pulling to 100, the maximum allowed for the Twitter API.\n",
    "\n",
    "The next step that I want to take in this code is to create a more automated way to find the individualized search criteria."
   ]
  },
  {
   "cell_type": "code",
   "execution_count": 429,
   "metadata": {
    "scrolled": true
   },
   "outputs": [],
   "source": [
    "# Search criteria for Karachi load shedding.\n",
    "\n",
    "ke_search = api.GetSearch(raw_query = f'{static_search} #KE until%3A{today} since%3A{week_ago}&count=100')\n",
    "KElectricPk_search = api.GetSearch(raw_query = f'{static_search} %40KElectricPk until%3A{today} since%3A{week_ago}&count=100')\n",
    "imran_khan_search = api.GetSearch(raw_query = f'{static_search} %40ImranKhanPTI until%3A{today} since%3A{week_ago}&count=100')\n",
    "asad_umar_search = api.GetSearch(raw_query = f'{static_search} %40Asad_Umar until%3A{today} since%3A{week_ago}&count=100')\n",
    "nepra_search = api.GetSearch(raw_query = f'{static_search} #NEPRA until%3A{today} since%3A{week_ago}&count=100')\n",
    "sui_search = api.GetSearch(raw_query = f'{static_search} sui until%3A{today} since%3A{week_ago}&count=100')\n",
    "naeem_rehman_search = api.GetSearch(raw_query = f'{static_search} %40NaeemRehmanEngr until%3A{today} since%3A{week_ago}&count=100')\n",
    "omar_ayub_khan_search = api.GetSearch(raw_query = f'{static_search} %40OmarAyubKhan until%3A{today} since%3A{week_ago}&count=100')\n",
    "PTI_government_search = api.GetSearch(raw_query = f'{static_search} #PTI_government until%3A{today} since%3A{week_ago}&count=100')"
   ]
  },
  {
   "cell_type": "markdown",
   "metadata": {},
   "source": [
    "In this cell, we apply the name_setter function that we created to all of the searches. The name_setter function finds all of the tweeters in the search and puts them into a set, which automatically removes duplicate names from the set. Removing duplicate names allows us to see individual \"blames\" against any entity that we can use to count as blames. It wouldn't make sense to gather multiple tweets by the same tweeter if what we are looking for is a case of one person blaming an entity."
   ]
  },
  {
   "cell_type": "code",
   "execution_count": 513,
   "metadata": {},
   "outputs": [],
   "source": [
    "# Take twitter user names for all of the searches\n",
    "ke_set = name_setter(ke_search)\n",
    "KElectricPk_set = name_setter(KElectricPk_search)\n",
    "karachi_electric_set = ke_set.union(KElectricPk_set)\n",
    "imran_khan_set = name_setter(imran_khan_search)\n",
    "asad_umar_set = name_setter(asad_umar_search)\n",
    "nepra_set = name_setter(nepra_search)\n",
    "sui_set = name_setter(sui_search)\n",
    "naeem_rehman_set = name_setter(naeem_rehman_search)\n",
    "omar_ayub_khan_set = name_setter(omar_ayub_khan_search)\n",
    "PTI_set = name_setter(PTI_government_search)"
   ]
  },
  {
   "cell_type": "markdown",
   "metadata": {},
   "source": [
    "In this cell, we set up a list of the sets we created and conduct a union to merge all of the names from all of the sets together to perform more analysis.  In this case, we also want to remove the duplicate names when we merge all of the sets together, so we merge the names into a set."
   ]
  },
  {
   "cell_type": "code",
   "execution_count": 431,
   "metadata": {},
   "outputs": [],
   "source": [
    "# Initiate a list of sets\n",
    "name_set_list = [karachi_electric_set, imran_khan_set, asad_umar_set, nepra_set, sui_set, naeem_rehman_set, omar_ayub_khan_set, PTI_set]\n",
    "\n",
    "# Combine all sets from name_set_list and leave into one set\n",
    "blamer_set = set.union(*name_set_list)"
   ]
  },
  {
   "cell_type": "markdown",
   "metadata": {},
   "source": [
    "In this cell, we create a dictionary out of the blamed list we created and the length of the name_set_list, which represents the total number of blames per entity."
   ]
  },
  {
   "cell_type": "code",
   "execution_count": 432,
   "metadata": {},
   "outputs": [
    {
     "name": "stdout",
     "output_type": "stream",
     "text": [
      "{'Karachi Electric': 12, 'Imran Khan': 1, 'Asad Umar': 0, 'NEPRA': 12, 'Sui Gas': 0, 'Naeem Rehman': 0, 'Omar Ayub Khan': 0, 'Tehreeki Insaaf': 12}\n"
     ]
    }
   ],
   "source": [
    "# Find the length of the name_set_list\n",
    "name_set_lengths = name_set_length_lister(name_set_list)\n",
    "\n",
    "# Create a dictionary of the blamed entities and the number of times each entity is blamed\n",
    "blamed_dict = dict(zip(blamed_list, name_set_lengths))\n",
    "print(blamed_dict)"
   ]
  },
  {
   "cell_type": "markdown",
   "metadata": {},
   "source": [
    "In this cell, we take the blamer_set and make it a list to apply to our membership tests.  We turn all the sets into lists to avoid complications with looping through the sets when receiving duplicates.  The name_mbr_test function loops throug the blame_list to determine if a name from the blame_list is in the the specified list and returns a single dictionary with names and True/False values.  Finally, we put all of the membership test dictionaries into a list."
   ]
  },
  {
   "cell_type": "code",
   "execution_count": 433,
   "metadata": {},
   "outputs": [
    {
     "name": "stdout",
     "output_type": "stream",
     "text": [
      "<class 'dict'>\n"
     ]
    }
   ],
   "source": [
    "# Turn the set into a list\n",
    "blame_list = list(blamer_set)\n",
    "\n",
    "\n",
    "# Membership tests for all name sets\n",
    "karachi_electric_blame_test = name_mbr_test(list(karachi_electric_set), blame_list)\n",
    "imran_khan_blame_test = name_mbr_test(list(imran_khan_set), blame_list)\n",
    "asad_umar_blame_test = name_mbr_test(list(asad_umar_set), blame_list)\n",
    "nepra_blame_test = name_mbr_test(list(nepra_set), blame_list)\n",
    "sui_blame_test = name_mbr_test(list(sui_set), blame_list)\n",
    "naeem_rehman_blame_test = name_mbr_test(list(naeem_rehman_set), blame_list)\n",
    "omar_ayub_khan_blame_test = name_mbr_test(list(omar_ayub_khan_set), blame_list)\n",
    "PTI_blame_test = name_mbr_test(list(PTI_set), blame_list)\n",
    "\n",
    "# Make sure we are getting a dictionary back\n",
    "print(type(karachi_electric_blame_test))\n",
    "\n",
    "# Make a list of all blame tests\n",
    "blame_test_list = [karachi_electric_blame_test, imran_khan_blame_test, asad_umar_blame_test,\\\n",
    "                   nepra_blame_test, sui_blame_test, naeem_rehman_blame_test, omar_ayub_khan_blame_test, PTI_blame_test]\n"
   ]
  },
  {
   "cell_type": "markdown",
   "metadata": {},
   "source": [
    "In this cell we turn the blamed_dict dictionary into a pandas Series. Observing the output, we can see some entities who were blamed the previous code Karachi_Load_Shedding_Blame_Game have not been blamed recently."
   ]
  },
  {
   "cell_type": "code",
   "execution_count": 434,
   "metadata": {},
   "outputs": [
    {
     "data": {
      "text/plain": [
       "Karachi Electric    12\n",
       "Imran Khan           1\n",
       "Asad Umar            0\n",
       "NEPRA               12\n",
       "Sui Gas              0\n",
       "Naeem Rehman         0\n",
       "Omar Ayub Khan       0\n",
       "Tehreeki Insaaf     12\n",
       "dtype: int64"
      ]
     },
     "execution_count": 434,
     "metadata": {},
     "output_type": "execute_result"
    }
   ],
   "source": [
    "# Create a pandas Series out of the dictionary\n",
    "times_blamed = pd.Series(blamed_dict)\n",
    "times_blamed"
   ]
  },
  {
   "cell_type": "markdown",
   "metadata": {},
   "source": [
    "In this cell we see the total blames and the average times an entity in the dataset is blamed."
   ]
  },
  {
   "cell_type": "code",
   "execution_count": 435,
   "metadata": {},
   "outputs": [
    {
     "name": "stdout",
     "output_type": "stream",
     "text": [
      "The total times all entities in the dataset have been blamed for load shedding in Karachi, Pakistan is 37.\n",
      "The average number of times the entities in the dataset have been blamed for load shedding in Karachi, Pakistan is 4.625.\n"
     ]
    }
   ],
   "source": [
    "# Print the total and average of the times_blamed Series\n",
    "print(f'The total times all entities in the dataset have been blamed for load shedding in Karachi, Pakistan is {sum(times_blamed)}.')\n",
    "print(f'The average number of times the entities in the dataset have been blamed for load shedding in Karachi, Pakistan is {np.mean(times_blamed)}.')\n"
   ]
  },
  {
   "cell_type": "markdown",
   "metadata": {},
   "source": [
    "A histogram of the data suggests that there is a right skew to the distribution.  One way we could try to fix this would be to combine the members of entities into their appropriate entity, such as Imran Khan, the current Prime Minister of Pakistan, who is the leader of the Tehreeki Insaaf political party."
   ]
  },
  {
   "cell_type": "code",
   "execution_count": 436,
   "metadata": {},
   "outputs": [
    {
     "data": {
      "text/plain": [
       "<matplotlib.axes._subplots.AxesSubplot at 0x2786d0104f0>"
      ]
     },
     "execution_count": 436,
     "metadata": {},
     "output_type": "execute_result"
    },
    {
     "data": {
      "image/png": "[encoded data removed]",
      "text/plain": [
       "<Figure size 432x288 with 1 Axes>"
      ]
     },
     "metadata": {
      "needs_background": "light"
     },
     "output_type": "display_data"
    }
   ],
   "source": [
    "# Plot a histogram of the times_blamed Series\n",
    "times_blamed.plot.hist()"
   ]
  },
  {
   "cell_type": "markdown",
   "metadata": {},
   "source": [
    "In this cell we make the histogram more normalized by simply dropping rows."
   ]
  },
  {
   "cell_type": "code",
   "execution_count": 515,
   "metadata": {},
   "outputs": [
    {
     "data": {
      "text/plain": [
       "<matplotlib.axes._subplots.AxesSubplot at 0x2786e9462e0>"
      ]
     },
     "execution_count": 515,
     "metadata": {},
     "output_type": "execute_result"
    },
    {
     "data": {
      "image/png": "[encoded data removed]",
      "text/plain": [
       "<Figure size 432x288 with 1 Axes>"
      ]
     },
     "metadata": {
      "needs_background": "light"
     },
     "output_type": "display_data"
    }
   ],
   "source": [
    "# Drop a few rows of the times_blamed Series to make it more normalized\n",
    "normalized_times_blamed = times_blamed.drop(['NEPRA', 'Tehreeki Insaaf', 'Sui Gas', 'Asad Umar', 'Omar Ayub Khan', 'Naeem Rehman'])\n",
    "normalized_times_blamed.plot.hist()\n"
   ]
  },
  {
   "cell_type": "markdown",
   "metadata": {},
   "source": [
    "The bar chart shows us more clearly of which entities are receiving the most blame. It seems Karachi Electric, NEPRA, and Tehreeki Insaaf are being blamed more than other entities at this time."
   ]
  },
  {
   "cell_type": "code",
   "execution_count": 438,
   "metadata": {},
   "outputs": [
    {
     "data": {
      "text/plain": [
       "<matplotlib.axes._subplots.AxesSubplot at 0x2786e5c5d30>"
      ]
     },
     "execution_count": 438,
     "metadata": {},
     "output_type": "execute_result"
    },
    {
     "data": {
      "image/png": "[encoded data removed]",
      "text/plain": [
       "<Figure size 432x288 with 1 Axes>"
      ]
     },
     "metadata": {
      "needs_background": "light"
     },
     "output_type": "display_data"
    }
   ],
   "source": [
    "# Plot a bar chart for the times_blamed Series\n",
    "times_blamed.plot.bar(legend = False)"
   ]
  },
  {
   "cell_type": "markdown",
   "metadata": {},
   "source": [
    "In this cell, we create a pandas DataFrame out of the membership test dictionaries, which shows how much each individual is blaming different entities.  We mask the names with generic terms to protect the identities of those who have blamed the entities.  The theory is that we can use these occurences to determine the likelihood of a tweeter blaming one entity if they blame another and potentially predicting if an entity will be blamed based on the other entities being blamed."
   ]
  },
  {
   "cell_type": "code",
   "execution_count": 439,
   "metadata": {},
   "outputs": [
    {
     "data": {
      "text/html": [
       "<div>\n",
       "<style scoped>\n",
       "    .dataframe tbody tr th:only-of-type {\n",
       "        vertical-align: middle;\n",
       "    }\n",
       "\n",
       "    .dataframe tbody tr th {\n",
       "        vertical-align: top;\n",
       "    }\n",
       "\n",
       "    .dataframe thead th {\n",
       "        text-align: right;\n",
       "    }\n",
       "</style>\n",
       "<table border=\"1\" class=\"dataframe\">\n",
       "  <thead>\n",
       "    <tr style=\"text-align: right;\">\n",
       "      <th></th>\n",
       "      <th>Tweeter0</th>\n",
       "      <th>Tweeter1</th>\n",
       "      <th>Tweeter2</th>\n",
       "      <th>Tweeter3</th>\n",
       "      <th>Tweeter4</th>\n",
       "      <th>Tweeter5</th>\n",
       "      <th>Tweeter6</th>\n",
       "      <th>Tweeter7</th>\n",
       "      <th>Tweeter8</th>\n",
       "      <th>Tweeter9</th>\n",
       "      <th>Tweeter10</th>\n",
       "      <th>Tweeter11</th>\n",
       "    </tr>\n",
       "  </thead>\n",
       "  <tbody>\n",
       "    <tr>\n",
       "      <th>Karachi Electric</th>\n",
       "      <td>True</td>\n",
       "      <td>True</td>\n",
       "      <td>True</td>\n",
       "      <td>True</td>\n",
       "      <td>True</td>\n",
       "      <td>True</td>\n",
       "      <td>True</td>\n",
       "      <td>True</td>\n",
       "      <td>True</td>\n",
       "      <td>True</td>\n",
       "      <td>True</td>\n",
       "      <td>True</td>\n",
       "    </tr>\n",
       "    <tr>\n",
       "      <th>Imran Khan</th>\n",
       "      <td>False</td>\n",
       "      <td>False</td>\n",
       "      <td>False</td>\n",
       "      <td>False</td>\n",
       "      <td>False</td>\n",
       "      <td>False</td>\n",
       "      <td>False</td>\n",
       "      <td>False</td>\n",
       "      <td>False</td>\n",
       "      <td>False</td>\n",
       "      <td>False</td>\n",
       "      <td>True</td>\n",
       "    </tr>\n",
       "    <tr>\n",
       "      <th>Asad Umar</th>\n",
       "      <td>False</td>\n",
       "      <td>False</td>\n",
       "      <td>False</td>\n",
       "      <td>False</td>\n",
       "      <td>False</td>\n",
       "      <td>False</td>\n",
       "      <td>False</td>\n",
       "      <td>False</td>\n",
       "      <td>False</td>\n",
       "      <td>False</td>\n",
       "      <td>False</td>\n",
       "      <td>False</td>\n",
       "    </tr>\n",
       "    <tr>\n",
       "      <th>NEPRA</th>\n",
       "      <td>True</td>\n",
       "      <td>True</td>\n",
       "      <td>True</td>\n",
       "      <td>True</td>\n",
       "      <td>True</td>\n",
       "      <td>True</td>\n",
       "      <td>True</td>\n",
       "      <td>True</td>\n",
       "      <td>True</td>\n",
       "      <td>True</td>\n",
       "      <td>True</td>\n",
       "      <td>True</td>\n",
       "    </tr>\n",
       "    <tr>\n",
       "      <th>Sui Gas</th>\n",
       "      <td>False</td>\n",
       "      <td>False</td>\n",
       "      <td>False</td>\n",
       "      <td>False</td>\n",
       "      <td>False</td>\n",
       "      <td>False</td>\n",
       "      <td>False</td>\n",
       "      <td>False</td>\n",
       "      <td>False</td>\n",
       "      <td>False</td>\n",
       "      <td>False</td>\n",
       "      <td>False</td>\n",
       "    </tr>\n",
       "    <tr>\n",
       "      <th>Naeem Rehman</th>\n",
       "      <td>False</td>\n",
       "      <td>False</td>\n",
       "      <td>False</td>\n",
       "      <td>False</td>\n",
       "      <td>False</td>\n",
       "      <td>False</td>\n",
       "      <td>False</td>\n",
       "      <td>False</td>\n",
       "      <td>False</td>\n",
       "      <td>False</td>\n",
       "      <td>False</td>\n",
       "      <td>False</td>\n",
       "    </tr>\n",
       "    <tr>\n",
       "      <th>Omar Ayub Khan</th>\n",
       "      <td>False</td>\n",
       "      <td>False</td>\n",
       "      <td>False</td>\n",
       "      <td>False</td>\n",
       "      <td>False</td>\n",
       "      <td>False</td>\n",
       "      <td>False</td>\n",
       "      <td>False</td>\n",
       "      <td>False</td>\n",
       "      <td>False</td>\n",
       "      <td>False</td>\n",
       "      <td>False</td>\n",
       "    </tr>\n",
       "    <tr>\n",
       "      <th>Tehreeki Insaaf</th>\n",
       "      <td>True</td>\n",
       "      <td>True</td>\n",
       "      <td>True</td>\n",
       "      <td>True</td>\n",
       "      <td>True</td>\n",
       "      <td>True</td>\n",
       "      <td>True</td>\n",
       "      <td>True</td>\n",
       "      <td>True</td>\n",
       "      <td>True</td>\n",
       "      <td>True</td>\n",
       "      <td>True</td>\n",
       "    </tr>\n",
       "  </tbody>\n",
       "</table>\n",
       "</div>"
      ],
      "text/plain": [
       "                  Tweeter0  Tweeter1  Tweeter2  Tweeter3  Tweeter4  Tweeter5  \\\n",
       "Karachi Electric      True      True      True      True      True      True   \n",
       "Imran Khan           False     False     False     False     False     False   \n",
       "Asad Umar            False     False     False     False     False     False   \n",
       "NEPRA                 True      True      True      True      True      True   \n",
       "Sui Gas              False     False     False     False     False     False   \n",
       "Naeem Rehman         False     False     False     False     False     False   \n",
       "Omar Ayub Khan       False     False     False     False     False     False   \n",
       "Tehreeki Insaaf       True      True      True      True      True      True   \n",
       "\n",
       "                  Tweeter6  Tweeter7  Tweeter8  Tweeter9  Tweeter10  Tweeter11  \n",
       "Karachi Electric      True      True      True      True       True       True  \n",
       "Imran Khan           False     False     False     False      False       True  \n",
       "Asad Umar            False     False     False     False      False      False  \n",
       "NEPRA                 True      True      True      True       True       True  \n",
       "Sui Gas              False     False     False     False      False      False  \n",
       "Naeem Rehman         False     False     False     False      False      False  \n",
       "Omar Ayub Khan       False     False     False     False      False      False  \n",
       "Tehreeki Insaaf       True      True      True      True       True       True  "
      ]
     },
     "execution_count": 439,
     "metadata": {},
     "output_type": "execute_result"
    }
   ],
   "source": [
    "# Create a dataframe out of the membership tests\n",
    "karachi_ls_df = pd.DataFrame(blame_test_list, index = blamed_list)\n",
    "\n",
    "# Set column names to Tweeter plus the column index\n",
    "karachi_ls_df.columns = ['Tweeter' + str(x) for x in range(0, len(karachi_ls_df.columns))]\n",
    "karachi_ls_df"
   ]
  },
  {
   "cell_type": "markdown",
   "metadata": {},
   "source": [
    "In this cell, we create a random sample of 10 columns that we can use in further analysis."
   ]
  },
  {
   "cell_type": "code",
   "execution_count": 440,
   "metadata": {},
   "outputs": [],
   "source": [
    "# Create a separate dataframe consisting of 10 random samples of the columns\n",
    "sample_karachi_ls_df = karachi_ls_df.sample(n=10, axis=1)"
   ]
  },
  {
   "cell_type": "markdown",
   "metadata": {},
   "source": [
    "Here we find the counts of True and False within the samples we pulled."
   ]
  },
  {
   "cell_type": "code",
   "execution_count": 441,
   "metadata": {},
   "outputs": [
    {
     "name": "stdout",
     "output_type": "stream",
     "text": [
      "(array([False,  True]), array([49, 31], dtype=int64))\n"
     ]
    }
   ],
   "source": [
    "# Find a count of all True values and all False values in the sample\n",
    "unique_sample = np.unique(sample_karachi_ls_df, return_counts = True)\n",
    "print(unique_sample)"
   ]
  },
  {
   "cell_type": "markdown",
   "metadata": {},
   "source": [
    "In this cell we create a bar graph plotting the observations in the sample.  We can see that there is a clear trend of many more False than True.  This helps us visualize that most tweeters blamed just a few of the entities and not most or all of them."
   ]
  },
  {
   "cell_type": "code",
   "execution_count": 442,
   "metadata": {},
   "outputs": [
    {
     "data": {
      "text/plain": [
       "[Text(0, 0.5, 'Occurences in sample'), Text(0.5, 0, 'True/False')]"
      ]
     },
     "execution_count": 442,
     "metadata": {},
     "output_type": "execute_result"
    },
    {
     "data": {
      "image/png": "[encoded data removed]",
      "text/plain": [
       "<Figure size 432x288 with 1 Axes>"
      ]
     },
     "metadata": {
      "needs_background": "light"
     },
     "output_type": "display_data"
    }
   ],
   "source": [
    "# Create a dataframe out of the True/False numpy array\n",
    "unique_sample_df = pd.DataFrame(unique_sample)\n",
    "\n",
    "# Rename the columns after the first row\n",
    "unique_sample_df.rename(columns=unique_sample_df.iloc[0], inplace = True)\n",
    "\n",
    "# Remove the old first row\n",
    "unique_sample_df.drop([0], inplace = True)\n",
    "\n",
    "# Create a bar chart out of the False/True sample\n",
    "ax = unique_sample_df.plot.bar(title = 'Who is Being Blamed for Load Shedding in Karachi: True/False Samples')\n",
    "ax.set(xlabel = 'True/False', ylabel = 'Occurences in sample')"
   ]
  },
  {
   "cell_type": "markdown",
   "metadata": {},
   "source": [
    "In this cell, we are combining the new data above with previously recorded data saved in a csv file."
   ]
  },
  {
   "cell_type": "code",
   "execution_count": 443,
   "metadata": {},
   "outputs": [
    {
     "data": {
      "text/html": [
       "<div>\n",
       "<style scoped>\n",
       "    .dataframe tbody tr th:only-of-type {\n",
       "        vertical-align: middle;\n",
       "    }\n",
       "\n",
       "    .dataframe tbody tr th {\n",
       "        vertical-align: top;\n",
       "    }\n",
       "\n",
       "    .dataframe thead th {\n",
       "        text-align: right;\n",
       "    }\n",
       "</style>\n",
       "<table border=\"1\" class=\"dataframe\">\n",
       "  <thead>\n",
       "    <tr style=\"text-align: right;\">\n",
       "      <th></th>\n",
       "      <th>Tweeter0</th>\n",
       "      <th>Tweeter1</th>\n",
       "      <th>Tweeter2</th>\n",
       "      <th>Tweeter3</th>\n",
       "      <th>Tweeter4</th>\n",
       "      <th>Tweeter5</th>\n",
       "      <th>Tweeter6</th>\n",
       "      <th>Tweeter7</th>\n",
       "      <th>Tweeter8</th>\n",
       "      <th>Tweeter9</th>\n",
       "      <th>...</th>\n",
       "      <th>Tweeter49</th>\n",
       "      <th>Tweeter50</th>\n",
       "      <th>Tweeter51</th>\n",
       "      <th>Tweeter52</th>\n",
       "      <th>Tweeter53</th>\n",
       "      <th>Tweeter54</th>\n",
       "      <th>Tweeter55</th>\n",
       "      <th>Tweeter56</th>\n",
       "      <th>Tweeter57</th>\n",
       "      <th>Tweeter58</th>\n",
       "    </tr>\n",
       "    <tr>\n",
       "      <th>Blamed</th>\n",
       "      <th></th>\n",
       "      <th></th>\n",
       "      <th></th>\n",
       "      <th></th>\n",
       "      <th></th>\n",
       "      <th></th>\n",
       "      <th></th>\n",
       "      <th></th>\n",
       "      <th></th>\n",
       "      <th></th>\n",
       "      <th></th>\n",
       "      <th></th>\n",
       "      <th></th>\n",
       "      <th></th>\n",
       "      <th></th>\n",
       "      <th></th>\n",
       "      <th></th>\n",
       "      <th></th>\n",
       "      <th></th>\n",
       "      <th></th>\n",
       "      <th></th>\n",
       "    </tr>\n",
       "  </thead>\n",
       "  <tbody>\n",
       "    <tr>\n",
       "      <th>Karachi Electric</th>\n",
       "      <td>1</td>\n",
       "      <td>0</td>\n",
       "      <td>1</td>\n",
       "      <td>1</td>\n",
       "      <td>1</td>\n",
       "      <td>1</td>\n",
       "      <td>0</td>\n",
       "      <td>0</td>\n",
       "      <td>0</td>\n",
       "      <td>0</td>\n",
       "      <td>...</td>\n",
       "      <td>1</td>\n",
       "      <td>1</td>\n",
       "      <td>1</td>\n",
       "      <td>1</td>\n",
       "      <td>1</td>\n",
       "      <td>1</td>\n",
       "      <td>1</td>\n",
       "      <td>1</td>\n",
       "      <td>1</td>\n",
       "      <td>1</td>\n",
       "    </tr>\n",
       "    <tr>\n",
       "      <th>Imran Khan</th>\n",
       "      <td>1</td>\n",
       "      <td>0</td>\n",
       "      <td>0</td>\n",
       "      <td>0</td>\n",
       "      <td>0</td>\n",
       "      <td>0</td>\n",
       "      <td>0</td>\n",
       "      <td>0</td>\n",
       "      <td>0</td>\n",
       "      <td>0</td>\n",
       "      <td>...</td>\n",
       "      <td>0</td>\n",
       "      <td>0</td>\n",
       "      <td>0</td>\n",
       "      <td>0</td>\n",
       "      <td>0</td>\n",
       "      <td>0</td>\n",
       "      <td>0</td>\n",
       "      <td>0</td>\n",
       "      <td>0</td>\n",
       "      <td>1</td>\n",
       "    </tr>\n",
       "    <tr>\n",
       "      <th>Asad Umar</th>\n",
       "      <td>1</td>\n",
       "      <td>1</td>\n",
       "      <td>0</td>\n",
       "      <td>0</td>\n",
       "      <td>0</td>\n",
       "      <td>0</td>\n",
       "      <td>0</td>\n",
       "      <td>0</td>\n",
       "      <td>0</td>\n",
       "      <td>0</td>\n",
       "      <td>...</td>\n",
       "      <td>0</td>\n",
       "      <td>0</td>\n",
       "      <td>0</td>\n",
       "      <td>0</td>\n",
       "      <td>0</td>\n",
       "      <td>0</td>\n",
       "      <td>0</td>\n",
       "      <td>0</td>\n",
       "      <td>0</td>\n",
       "      <td>0</td>\n",
       "    </tr>\n",
       "    <tr>\n",
       "      <th>NEPRA</th>\n",
       "      <td>1</td>\n",
       "      <td>0</td>\n",
       "      <td>0</td>\n",
       "      <td>1</td>\n",
       "      <td>1</td>\n",
       "      <td>1</td>\n",
       "      <td>0</td>\n",
       "      <td>0</td>\n",
       "      <td>0</td>\n",
       "      <td>0</td>\n",
       "      <td>...</td>\n",
       "      <td>1</td>\n",
       "      <td>1</td>\n",
       "      <td>1</td>\n",
       "      <td>1</td>\n",
       "      <td>1</td>\n",
       "      <td>1</td>\n",
       "      <td>1</td>\n",
       "      <td>1</td>\n",
       "      <td>1</td>\n",
       "      <td>1</td>\n",
       "    </tr>\n",
       "    <tr>\n",
       "      <th>Sui Gas</th>\n",
       "      <td>0</td>\n",
       "      <td>0</td>\n",
       "      <td>0</td>\n",
       "      <td>0</td>\n",
       "      <td>0</td>\n",
       "      <td>0</td>\n",
       "      <td>1</td>\n",
       "      <td>1</td>\n",
       "      <td>1</td>\n",
       "      <td>1</td>\n",
       "      <td>...</td>\n",
       "      <td>0</td>\n",
       "      <td>0</td>\n",
       "      <td>0</td>\n",
       "      <td>0</td>\n",
       "      <td>0</td>\n",
       "      <td>0</td>\n",
       "      <td>0</td>\n",
       "      <td>0</td>\n",
       "      <td>0</td>\n",
       "      <td>0</td>\n",
       "    </tr>\n",
       "    <tr>\n",
       "      <th>Naeem Rehman</th>\n",
       "      <td>0</td>\n",
       "      <td>0</td>\n",
       "      <td>0</td>\n",
       "      <td>0</td>\n",
       "      <td>0</td>\n",
       "      <td>0</td>\n",
       "      <td>0</td>\n",
       "      <td>0</td>\n",
       "      <td>0</td>\n",
       "      <td>0</td>\n",
       "      <td>...</td>\n",
       "      <td>0</td>\n",
       "      <td>0</td>\n",
       "      <td>0</td>\n",
       "      <td>0</td>\n",
       "      <td>0</td>\n",
       "      <td>0</td>\n",
       "      <td>0</td>\n",
       "      <td>0</td>\n",
       "      <td>0</td>\n",
       "      <td>0</td>\n",
       "    </tr>\n",
       "    <tr>\n",
       "      <th>Omar Ayub Khan</th>\n",
       "      <td>0</td>\n",
       "      <td>0</td>\n",
       "      <td>0</td>\n",
       "      <td>0</td>\n",
       "      <td>0</td>\n",
       "      <td>0</td>\n",
       "      <td>0</td>\n",
       "      <td>0</td>\n",
       "      <td>0</td>\n",
       "      <td>0</td>\n",
       "      <td>...</td>\n",
       "      <td>0</td>\n",
       "      <td>0</td>\n",
       "      <td>0</td>\n",
       "      <td>0</td>\n",
       "      <td>0</td>\n",
       "      <td>0</td>\n",
       "      <td>0</td>\n",
       "      <td>0</td>\n",
       "      <td>0</td>\n",
       "      <td>0</td>\n",
       "    </tr>\n",
       "    <tr>\n",
       "      <th>Tehreeki Insaaf</th>\n",
       "      <td>1</td>\n",
       "      <td>0</td>\n",
       "      <td>0</td>\n",
       "      <td>1</td>\n",
       "      <td>1</td>\n",
       "      <td>1</td>\n",
       "      <td>0</td>\n",
       "      <td>0</td>\n",
       "      <td>0</td>\n",
       "      <td>0</td>\n",
       "      <td>...</td>\n",
       "      <td>1</td>\n",
       "      <td>1</td>\n",
       "      <td>1</td>\n",
       "      <td>1</td>\n",
       "      <td>1</td>\n",
       "      <td>1</td>\n",
       "      <td>1</td>\n",
       "      <td>1</td>\n",
       "      <td>1</td>\n",
       "      <td>1</td>\n",
       "    </tr>\n",
       "  </tbody>\n",
       "</table>\n",
       "<p>8 rows × 59 columns</p>\n",
       "</div>"
      ],
      "text/plain": [
       "                  Tweeter0  Tweeter1  Tweeter2  Tweeter3  Tweeter4  Tweeter5  \\\n",
       "Blamed                                                                         \n",
       "Karachi Electric         1         0         1         1         1         1   \n",
       "Imran Khan               1         0         0         0         0         0   \n",
       "Asad Umar                1         1         0         0         0         0   \n",
       "NEPRA                    1         0         0         1         1         1   \n",
       "Sui Gas                  0         0         0         0         0         0   \n",
       "Naeem Rehman             0         0         0         0         0         0   \n",
       "Omar Ayub Khan           0         0         0         0         0         0   \n",
       "Tehreeki Insaaf          1         0         0         1         1         1   \n",
       "\n",
       "                  Tweeter6  Tweeter7  Tweeter8  Tweeter9  ...  Tweeter49  \\\n",
       "Blamed                                                    ...              \n",
       "Karachi Electric         0         0         0         0  ...          1   \n",
       "Imran Khan               0         0         0         0  ...          0   \n",
       "Asad Umar                0         0         0         0  ...          0   \n",
       "NEPRA                    0         0         0         0  ...          1   \n",
       "Sui Gas                  1         1         1         1  ...          0   \n",
       "Naeem Rehman             0         0         0         0  ...          0   \n",
       "Omar Ayub Khan           0         0         0         0  ...          0   \n",
       "Tehreeki Insaaf          0         0         0         0  ...          1   \n",
       "\n",
       "                  Tweeter50  Tweeter51  Tweeter52  Tweeter53  Tweeter54  \\\n",
       "Blamed                                                                    \n",
       "Karachi Electric          1          1          1          1          1   \n",
       "Imran Khan                0          0          0          0          0   \n",
       "Asad Umar                 0          0          0          0          0   \n",
       "NEPRA                     1          1          1          1          1   \n",
       "Sui Gas                   0          0          0          0          0   \n",
       "Naeem Rehman              0          0          0          0          0   \n",
       "Omar Ayub Khan            0          0          0          0          0   \n",
       "Tehreeki Insaaf           1          1          1          1          1   \n",
       "\n",
       "                  Tweeter55  Tweeter56  Tweeter57  Tweeter58  \n",
       "Blamed                                                        \n",
       "Karachi Electric          1          1          1          1  \n",
       "Imran Khan                0          0          0          1  \n",
       "Asad Umar                 0          0          0          0  \n",
       "NEPRA                     1          1          1          1  \n",
       "Sui Gas                   0          0          0          0  \n",
       "Naeem Rehman              0          0          0          0  \n",
       "Omar Ayub Khan            0          0          0          0  \n",
       "Tehreeki Insaaf           1          1          1          1  \n",
       "\n",
       "[8 rows x 59 columns]"
      ]
     },
     "execution_count": 443,
     "metadata": {},
     "output_type": "execute_result"
    }
   ],
   "source": [
    "# Take previous data stored in csv\n",
    "karachi_load_shedding = pd.DataFrame(pd.read_csv('karachi_ls_tweeters'))\n",
    "karachi_load_shedding = karachi_load_shedding.set_index('Unnamed: 0')\n",
    "karachi_load_shedding.index.name = ''\n",
    "\n",
    "# Combine the dataframes into one\n",
    "frames = [karachi_load_shedding, karachi_ls_df]\n",
    "kls_df = pd.concat(frames, axis = 1)\n",
    "kls_df.columns = ['Tweeter' + str(x) for x in range(0, len(kls_df.columns))]\n",
    "\n",
    "# Turn True/False values into integers\n",
    "kls_df = kls_df * 1\n",
    "\n",
    "# Change index name\n",
    "kls_df.index.name = 'Blamed'\n",
    "kls_df"
   ]
  },
  {
   "cell_type": "markdown",
   "metadata": {},
   "source": [
    "Karachi Electric has the most blames overall."
   ]
  },
  {
   "cell_type": "code",
   "execution_count": 512,
   "metadata": {},
   "outputs": [
    {
     "name": "stdout",
     "output_type": "stream",
     "text": [
      "('Karachi Electric:', (array([0, 1]), array([25, 34], dtype=int64)))\n",
      "('Asad Umar:', (array([0, 1]), array([55,  4], dtype=int64)))\n",
      "('NEPRA:', (array([0, 1]), array([33, 26], dtype=int64)))\n",
      "('Sui Gas:', (array([0, 1]), array([33, 26], dtype=int64)))\n",
      "('Naeem Rehman:', (array([0, 1]), array([57,  2], dtype=int64)))\n",
      "('Omar Ayub Khan:', (array([0, 1]), array([58,  1], dtype=int64)))\n",
      "('Tehreeki Insaaf:', (array([0, 1]), array([33, 26], dtype=int64)))\n"
     ]
    }
   ],
   "source": [
    "# Find who is being blamed the most\n",
    "def who_is_to_blame(alist, df):\n",
    "    '''Iterates over a list and prints the item in the list followed by \n",
    "    unique counts in a numpy array.'''\n",
    "    for b in alist:\n",
    "        array = f'{b}:', np.unique(df.loc[b], return_counts = True)\n",
    "        print(array)\n",
    "\n",
    "who_is_to_blame(blamed_list, kls_df)"
   ]
  },
  {
   "cell_type": "markdown",
   "metadata": {},
   "source": [
    "For the purposes of this project, we will drop all of the people, who have just a few blames and leave the entities, which all have many blames."
   ]
  },
  {
   "cell_type": "code",
   "execution_count": 445,
   "metadata": {},
   "outputs": [
    {
     "data": {
      "text/html": [
       "<div>\n",
       "<style scoped>\n",
       "    .dataframe tbody tr th:only-of-type {\n",
       "        vertical-align: middle;\n",
       "    }\n",
       "\n",
       "    .dataframe tbody tr th {\n",
       "        vertical-align: top;\n",
       "    }\n",
       "\n",
       "    .dataframe thead th {\n",
       "        text-align: right;\n",
       "    }\n",
       "</style>\n",
       "<table border=\"1\" class=\"dataframe\">\n",
       "  <thead>\n",
       "    <tr style=\"text-align: right;\">\n",
       "      <th></th>\n",
       "      <th>Tweeter0</th>\n",
       "      <th>Tweeter1</th>\n",
       "      <th>Tweeter2</th>\n",
       "      <th>Tweeter3</th>\n",
       "      <th>Tweeter4</th>\n",
       "      <th>Tweeter5</th>\n",
       "      <th>Tweeter6</th>\n",
       "      <th>Tweeter7</th>\n",
       "      <th>Tweeter8</th>\n",
       "      <th>Tweeter9</th>\n",
       "      <th>...</th>\n",
       "      <th>Tweeter49</th>\n",
       "      <th>Tweeter50</th>\n",
       "      <th>Tweeter51</th>\n",
       "      <th>Tweeter52</th>\n",
       "      <th>Tweeter53</th>\n",
       "      <th>Tweeter54</th>\n",
       "      <th>Tweeter55</th>\n",
       "      <th>Tweeter56</th>\n",
       "      <th>Tweeter57</th>\n",
       "      <th>Tweeter58</th>\n",
       "    </tr>\n",
       "    <tr>\n",
       "      <th>Blamed</th>\n",
       "      <th></th>\n",
       "      <th></th>\n",
       "      <th></th>\n",
       "      <th></th>\n",
       "      <th></th>\n",
       "      <th></th>\n",
       "      <th></th>\n",
       "      <th></th>\n",
       "      <th></th>\n",
       "      <th></th>\n",
       "      <th></th>\n",
       "      <th></th>\n",
       "      <th></th>\n",
       "      <th></th>\n",
       "      <th></th>\n",
       "      <th></th>\n",
       "      <th></th>\n",
       "      <th></th>\n",
       "      <th></th>\n",
       "      <th></th>\n",
       "      <th></th>\n",
       "    </tr>\n",
       "  </thead>\n",
       "  <tbody>\n",
       "    <tr>\n",
       "      <th>Karachi Electric</th>\n",
       "      <td>1</td>\n",
       "      <td>0</td>\n",
       "      <td>1</td>\n",
       "      <td>1</td>\n",
       "      <td>1</td>\n",
       "      <td>1</td>\n",
       "      <td>0</td>\n",
       "      <td>0</td>\n",
       "      <td>0</td>\n",
       "      <td>0</td>\n",
       "      <td>...</td>\n",
       "      <td>1</td>\n",
       "      <td>1</td>\n",
       "      <td>1</td>\n",
       "      <td>1</td>\n",
       "      <td>1</td>\n",
       "      <td>1</td>\n",
       "      <td>1</td>\n",
       "      <td>1</td>\n",
       "      <td>1</td>\n",
       "      <td>1</td>\n",
       "    </tr>\n",
       "    <tr>\n",
       "      <th>NEPRA</th>\n",
       "      <td>1</td>\n",
       "      <td>0</td>\n",
       "      <td>0</td>\n",
       "      <td>1</td>\n",
       "      <td>1</td>\n",
       "      <td>1</td>\n",
       "      <td>0</td>\n",
       "      <td>0</td>\n",
       "      <td>0</td>\n",
       "      <td>0</td>\n",
       "      <td>...</td>\n",
       "      <td>1</td>\n",
       "      <td>1</td>\n",
       "      <td>1</td>\n",
       "      <td>1</td>\n",
       "      <td>1</td>\n",
       "      <td>1</td>\n",
       "      <td>1</td>\n",
       "      <td>1</td>\n",
       "      <td>1</td>\n",
       "      <td>1</td>\n",
       "    </tr>\n",
       "    <tr>\n",
       "      <th>Sui Gas</th>\n",
       "      <td>0</td>\n",
       "      <td>0</td>\n",
       "      <td>0</td>\n",
       "      <td>0</td>\n",
       "      <td>0</td>\n",
       "      <td>0</td>\n",
       "      <td>1</td>\n",
       "      <td>1</td>\n",
       "      <td>1</td>\n",
       "      <td>1</td>\n",
       "      <td>...</td>\n",
       "      <td>0</td>\n",
       "      <td>0</td>\n",
       "      <td>0</td>\n",
       "      <td>0</td>\n",
       "      <td>0</td>\n",
       "      <td>0</td>\n",
       "      <td>0</td>\n",
       "      <td>0</td>\n",
       "      <td>0</td>\n",
       "      <td>0</td>\n",
       "    </tr>\n",
       "    <tr>\n",
       "      <th>Tehreeki Insaaf</th>\n",
       "      <td>1</td>\n",
       "      <td>0</td>\n",
       "      <td>0</td>\n",
       "      <td>1</td>\n",
       "      <td>1</td>\n",
       "      <td>1</td>\n",
       "      <td>0</td>\n",
       "      <td>0</td>\n",
       "      <td>0</td>\n",
       "      <td>0</td>\n",
       "      <td>...</td>\n",
       "      <td>1</td>\n",
       "      <td>1</td>\n",
       "      <td>1</td>\n",
       "      <td>1</td>\n",
       "      <td>1</td>\n",
       "      <td>1</td>\n",
       "      <td>1</td>\n",
       "      <td>1</td>\n",
       "      <td>1</td>\n",
       "      <td>1</td>\n",
       "    </tr>\n",
       "  </tbody>\n",
       "</table>\n",
       "<p>4 rows × 59 columns</p>\n",
       "</div>"
      ],
      "text/plain": [
       "                  Tweeter0  Tweeter1  Tweeter2  Tweeter3  Tweeter4  Tweeter5  \\\n",
       "Blamed                                                                         \n",
       "Karachi Electric         1         0         1         1         1         1   \n",
       "NEPRA                    1         0         0         1         1         1   \n",
       "Sui Gas                  0         0         0         0         0         0   \n",
       "Tehreeki Insaaf          1         0         0         1         1         1   \n",
       "\n",
       "                  Tweeter6  Tweeter7  Tweeter8  Tweeter9  ...  Tweeter49  \\\n",
       "Blamed                                                    ...              \n",
       "Karachi Electric         0         0         0         0  ...          1   \n",
       "NEPRA                    0         0         0         0  ...          1   \n",
       "Sui Gas                  1         1         1         1  ...          0   \n",
       "Tehreeki Insaaf          0         0         0         0  ...          1   \n",
       "\n",
       "                  Tweeter50  Tweeter51  Tweeter52  Tweeter53  Tweeter54  \\\n",
       "Blamed                                                                    \n",
       "Karachi Electric          1          1          1          1          1   \n",
       "NEPRA                     1          1          1          1          1   \n",
       "Sui Gas                   0          0          0          0          0   \n",
       "Tehreeki Insaaf           1          1          1          1          1   \n",
       "\n",
       "                  Tweeter55  Tweeter56  Tweeter57  Tweeter58  \n",
       "Blamed                                                        \n",
       "Karachi Electric          1          1          1          1  \n",
       "NEPRA                     1          1          1          1  \n",
       "Sui Gas                   0          0          0          0  \n",
       "Tehreeki Insaaf           1          1          1          1  \n",
       "\n",
       "[4 rows x 59 columns]"
      ]
     },
     "execution_count": 445,
     "metadata": {},
     "output_type": "execute_result"
    }
   ],
   "source": [
    "# Create a new dataframe with only the entities that we want\n",
    "new_kls_df = kls_df.drop('Imran Khan').drop('Asad Umar').drop('Naeem Rehman').drop('Omar Ayub Khan')\n",
    "new_kls_df"
   ]
  },
  {
   "cell_type": "code",
   "execution_count": 488,
   "metadata": {},
   "outputs": [],
   "source": [
    "# Make a new blamed list\n",
    "new_blamed_list = ['Karachi Electric', 'NEPRA', 'Sui Gas', 'Tehreeki Insaaf']"
   ]
  },
  {
   "cell_type": "code",
   "execution_count": 490,
   "metadata": {},
   "outputs": [
    {
     "name": "stdout",
     "output_type": "stream",
     "text": [
      "('Karachi Electric:', (array([0, 1]), array([25, 34], dtype=int64)))\n",
      "('NEPRA:', (array([0, 1]), array([33, 26], dtype=int64)))\n",
      "('Sui Gas:', (array([0, 1]), array([33, 26], dtype=int64)))\n",
      "('Tehreeki Insaaf:', (array([0, 1]), array([33, 26], dtype=int64)))\n"
     ]
    }
   ],
   "source": [
    "# Call who_is_to_blame function on the new list and dataframe\n",
    "who_is_to_blame(new_blamed_list, new_kls_df)"
   ]
  },
  {
   "cell_type": "markdown",
   "metadata": {},
   "source": [
    "Ideally, we will find a model that performs better than Karachi Electric's True/False ratio of 0.576."
   ]
  },
  {
   "cell_type": "code",
   "execution_count": 491,
   "metadata": {},
   "outputs": [
    {
     "name": "stdout",
     "output_type": "stream",
     "text": [
      "0.576271186440678\n"
     ]
    }
   ],
   "source": [
    "# Karachi Electric dummy model\n",
    "print(34/(34+25))"
   ]
  },
  {
   "cell_type": "code",
   "execution_count": 447,
   "metadata": {},
   "outputs": [],
   "source": [
    "# Splitting the data into training data and test data\n",
    "from sklearn.model_selection import train_test_split\n",
    "\n",
    "\n",
    "X = new_kls_df[1:4].to_numpy().reshape(59, 3)\n",
    "y = new_kls_df.loc['Karachi Electric'].to_numpy().reshape(-1)\n",
    "Xtrain, Xtest, ytrain, ytest = train_test_split(X, y, test_size = 0.3, random_state = 1, stratify = y)"
   ]
  },
  {
   "cell_type": "code",
   "execution_count": 449,
   "metadata": {},
   "outputs": [
    {
     "data": {
      "text/plain": [
       "LogisticRegression(penalty='none', random_state=1)"
      ]
     },
     "execution_count": 449,
     "metadata": {},
     "output_type": "execute_result"
    }
   ],
   "source": [
    "# Logistic Regression model\n",
    "from sklearn.linear_model import LogisticRegression\n",
    "logreg = LogisticRegression(penalty = 'none', random_state = 1)\n",
    "logreg.fit(Xtrain, ytrain)"
   ]
  },
  {
   "cell_type": "markdown",
   "metadata": {},
   "source": [
    "If no other entity is blamed, according to the logistic regression model, there is a 67% probability that Karachi Electric will be blamed."
   ]
  },
  {
   "cell_type": "code",
   "execution_count": 450,
   "metadata": {},
   "outputs": [
    {
     "data": {
      "text/plain": [
       "array([[0.33046735, 0.66953265]])"
      ]
     },
     "execution_count": 450,
     "metadata": {},
     "output_type": "execute_result"
    }
   ],
   "source": [
    "# Make a prediction\n",
    "X = np.array([[0, 0, 0]])\n",
    "logreg.predict_proba(X)"
   ]
  },
  {
   "cell_type": "code",
   "execution_count": 451,
   "metadata": {},
   "outputs": [
    {
     "data": {
      "text/plain": [
       "array([[-0.74355052,  0.20770785, -0.18194317]])"
      ]
     },
     "execution_count": 451,
     "metadata": {},
     "output_type": "execute_result"
    }
   ],
   "source": [
    "# Find the coefficients for the logistic regression model\n",
    "logreg.coef_"
   ]
  },
  {
   "cell_type": "code",
   "execution_count": 492,
   "metadata": {},
   "outputs": [
    {
     "data": {
      "text/plain": [
       "Lasso(alpha=5, max_iter=1000000)"
      ]
     },
     "execution_count": 492,
     "metadata": {},
     "output_type": "execute_result"
    }
   ],
   "source": [
    "# Lasso regression model\n",
    "from sklearn.linear_model import Lasso\n",
    "\n",
    "lasso = Lasso(alpha = 5, max_iter = 1000000)\n",
    "lasso.fit(Xtrain, ytrain)"
   ]
  },
  {
   "cell_type": "markdown",
   "metadata": {},
   "source": [
    "The Lasso model has wrangled all of the coefficients to 0."
   ]
  },
  {
   "cell_type": "code",
   "execution_count": 493,
   "metadata": {},
   "outputs": [
    {
     "data": {
      "text/plain": [
       "array([-0., -0., -0.])"
      ]
     },
     "execution_count": 493,
     "metadata": {},
     "output_type": "execute_result"
    }
   ],
   "source": [
    "# Get lasso model coefficients\n",
    "lasso.coef_"
   ]
  },
  {
   "cell_type": "code",
   "execution_count": 518,
   "metadata": {},
   "outputs": [
    {
     "data": {
      "text/plain": [
       "{'fit_time': array([0.00699663, 0.00599551]),\n",
       " 'score_time': array([0.00099993, 0.00100136]),\n",
       " 'estimator': (LogisticRegression(penalty='none', random_state=1),\n",
       "  LogisticRegression(penalty='none', random_state=1)),\n",
       " 'test_score': array([0.57142857, 0.55      ]),\n",
       " 'train_score': array([0.6       , 0.61904762])}"
      ]
     },
     "execution_count": 518,
     "metadata": {},
     "output_type": "execute_result"
    }
   ],
   "source": [
    "# Model Selection using Cross Validation on logistic regression model\n",
    "from sklearn.model_selection import cross_validate\n",
    "\n",
    "two_fold_log_select = cross_validate(estimator = logreg, X = Xtrain, y = ytrain, cv = 2, return_estimator = True, return_train_score = True)\n",
    "two_fold_log_select"
   ]
  },
  {
   "cell_type": "code",
   "execution_count": 519,
   "metadata": {},
   "outputs": [
    {
     "data": {
      "text/plain": [
       "array([0.6       , 0.61904762])"
      ]
     },
     "execution_count": 519,
     "metadata": {},
     "output_type": "execute_result"
    }
   ],
   "source": [
    "two_fold_log_select['train_score']"
   ]
  },
  {
   "cell_type": "markdown",
   "metadata": {},
   "source": [
    "As expected, the train scores are higher than the test scores."
   ]
  },
  {
   "cell_type": "code",
   "execution_count": 520,
   "metadata": {},
   "outputs": [
    {
     "data": {
      "text/plain": [
       "array([0.57142857, 0.55      ])"
      ]
     },
     "execution_count": 520,
     "metadata": {},
     "output_type": "execute_result"
    }
   ],
   "source": [
    "two_fold_log_select['test_score']"
   ]
  },
  {
   "cell_type": "code",
   "execution_count": 521,
   "metadata": {},
   "outputs": [],
   "source": [
    "# Find the mean and standard deviation of the logistic regression model's test scores\n",
    "log_select_mean = two_fold_log_select['test_score'].mean()\n",
    "\n",
    "log_select_std = two_fold_log_select['test_score'].std()"
   ]
  },
  {
   "cell_type": "markdown",
   "metadata": {},
   "source": [
    "Logistic Regression performed just under the dummy model's accuracy."
   ]
  },
  {
   "cell_type": "code",
   "execution_count": 523,
   "metadata": {},
   "outputs": [
    {
     "name": "stdout",
     "output_type": "stream",
     "text": [
      "Logistic Regression 2 fold cv results (Accuracy) 0.561 +/- 0.011\n"
     ]
    }
   ],
   "source": [
    "# Print the results of the mean and standard deviation for the logistic regression model's test scores\n",
    "print('Logistic Regression 2 fold cv results (Accuracy) %.3f +/- %.3f'%(log_select_mean, log_select_std))"
   ]
  },
  {
   "cell_type": "code",
   "execution_count": 526,
   "metadata": {},
   "outputs": [
    {
     "data": {
      "text/plain": [
       "{'fit_time': array([0.00099778, 0.00099826]),\n",
       " 'score_time': array([0.00100017, 0.00100136]),\n",
       " 'estimator': (Lasso(alpha=5, max_iter=1000000),\n",
       "  Lasso(alpha=5, max_iter=1000000)),\n",
       " 'test_score': array([-0.125     , -0.11111111]),\n",
       " 'train_score': array([0., 0.])}"
      ]
     },
     "execution_count": 526,
     "metadata": {},
     "output_type": "execute_result"
    }
   ],
   "source": [
    "# Model Selection using Cross Validation on lasso regression model\n",
    "two_fold_lasso_select = cross_validate(estimator = lasso, X = Xtrain, y = ytrain, cv = 2, return_estimator = True, return_train_score = True)\n",
    "two_fold_lasso_select"
   ]
  },
  {
   "cell_type": "code",
   "execution_count": 527,
   "metadata": {},
   "outputs": [
    {
     "data": {
      "text/plain": [
       "array([0., 0.])"
      ]
     },
     "execution_count": 527,
     "metadata": {},
     "output_type": "execute_result"
    }
   ],
   "source": [
    "two_fold_lasso_select['train_score']"
   ]
  },
  {
   "cell_type": "markdown",
   "metadata": {},
   "source": [
    "Again, train scores are higher than test scores."
   ]
  },
  {
   "cell_type": "code",
   "execution_count": 528,
   "metadata": {},
   "outputs": [
    {
     "data": {
      "text/plain": [
       "array([-0.125     , -0.11111111])"
      ]
     },
     "execution_count": 528,
     "metadata": {},
     "output_type": "execute_result"
    }
   ],
   "source": [
    "two_fold_lasso_select['test_score']"
   ]
  },
  {
   "cell_type": "code",
   "execution_count": 529,
   "metadata": {},
   "outputs": [],
   "source": [
    "# Find the mean and standard deviation of the lasso model's test scores\n",
    "lasso_select_mean = two_fold_lasso_select['test_score'].mean()\n",
    "\n",
    "lasso_select_std = two_fold_lasso_select['test_score'].std()"
   ]
  },
  {
   "cell_type": "markdown",
   "metadata": {},
   "source": [
    "In this instance, the lasso model performed worse than logistic regression."
   ]
  },
  {
   "cell_type": "code",
   "execution_count": 530,
   "metadata": {},
   "outputs": [
    {
     "name": "stdout",
     "output_type": "stream",
     "text": [
      "Lasso Regression 4 fold cv results (Accuracy) -0.118 +/- 0.007\n"
     ]
    }
   ],
   "source": [
    "# Print the results of the mean and standard deviation for the lasso model's test scores\n",
    "print('Lasso Regression 4 fold cv results (Accuracy) %.3f +/- %.3f'%(lasso_select_mean, lasso_select_std))"
   ]
  },
  {
   "cell_type": "markdown",
   "metadata": {},
   "source": [
    "Note in the graph below, the lasso model's train score does not appear because it is 0."
   ]
  },
  {
   "cell_type": "code",
   "execution_count": 565,
   "metadata": {},
   "outputs": [
    {
     "data": {
      "text/plain": [
       "<matplotlib.axes._subplots.AxesSubplot at 0x2786ef0ccd0>"
      ]
     },
     "execution_count": 565,
     "metadata": {},
     "output_type": "execute_result"
    },
    {
     "data": {
      "image/png": "[encoded data removed]",
      "text/plain": [
       "<Figure size 432x288 with 1 Axes>"
      ]
     },
     "metadata": {
      "needs_background": "light"
     },
     "output_type": "display_data"
    }
   ],
   "source": [
    "test_df = pd.DataFrame({'train score':[two_fold_log_select['train_score'].mean(), two_fold_lasso_select['train_score'].mean()],\n",
    "                        'test score':[two_fold_log_select['test_score'].mean(), two_fold_lasso_select['test_score'].mean()]},\n",
    "                       index = ['logistic model', 'lasso model'])\n",
    "test_df.plot.bar(title = 'Train Scores vs Test Scores')"
   ]
  },
  {
   "cell_type": "markdown",
   "metadata": {},
   "source": [
    "We were unable to train a model that would beat the dummy model's ability to predict when tweeters would blame Karachi Electric for load shedding in Karachi based on who else those tweeters were blaming.  The model that performed the best in the model selection process was logistic regression based on its average accuracy score of 0.56 compared to the lasso regression model's -0.246 average accuracy score.  However, I would not recommend using the model to predict blames against Karachi Electric because overall the accuracy of the model is too low."
   ]
  },
  {
   "cell_type": "code",
   "execution_count": 566,
   "metadata": {},
   "outputs": [],
   "source": [
    "kls_df.to_csv('karachi_ls.csv') "
   ]
  },
  {
   "cell_type": "code",
   "execution_count": null,
   "metadata": {},
   "outputs": [],
   "source": []
  }
 ],
 "metadata": {
  "kernelspec": {
   "display_name": "Python 3",
   "language": "python",
   "name": "python3"
  },
  "language_info": {
   "codemirror_mode": {
    "name": "ipython",
    "version": 3
   },
   "file_extension": ".py",
   "mimetype": "text/x-python",
   "name": "python",
   "nbconvert_exporter": "python",
   "pygments_lexer": "ipython3",
   "version": "3.8.3"
  }
 },
 "nbformat": 4,
 "nbformat_minor": 4
}
